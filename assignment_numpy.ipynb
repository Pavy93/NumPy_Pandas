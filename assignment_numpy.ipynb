{
 "cells": [
  {
   "cell_type": "markdown",
   "id": "d3df79dd",
   "metadata": {},
   "source": [
    "## Упражнения по библиотеке Numpy"
   ]
  },
  {
   "cell_type": "code",
   "execution_count": 1,
   "id": "76b9c43b",
   "metadata": {},
   "outputs": [],
   "source": [
    "import numpy as np"
   ]
  },
  {
   "cell_type": "code",
   "execution_count": 2,
   "id": "3e81a43b",
   "metadata": {},
   "outputs": [
    {
     "data": {
      "text/plain": [
       "array([[ 8, 30,  8, 22,  2],\n",
       "       [ 1, 18, 39,  1, 23],\n",
       "       [28,  6, 48, 19,  9],\n",
       "       [36, 11, 19,  9,  8]])"
      ]
     },
     "execution_count": 2,
     "metadata": {},
     "output_type": "execute_result"
    }
   ],
   "source": [
    "#создаем случайный массив для заданий 1 и 2,например из целых чисел и размерности 4X5 (можно любой) \n",
    "a = np.random.randint(0, 50, size=(4,5))\n",
    "a"
   ]
  },
  {
   "cell_type": "markdown",
   "id": "03727b7c",
   "metadata": {},
   "source": [
    "**1.** Дан случайный массив, поменять знак у элементов, значения которых между 3 и 8"
   ]
  },
  {
   "cell_type": "code",
   "execution_count": 3,
   "id": "b89a7523",
   "metadata": {},
   "outputs": [
    {
     "data": {
      "text/plain": [
       "array([[ 8, 30,  8, 22,  2],\n",
       "       [ 1, 18, 39,  1, 23],\n",
       "       [28, -6, 48, 19,  9],\n",
       "       [36, 11, 19,  9,  8]])"
      ]
     },
     "execution_count": 3,
     "metadata": {},
     "output_type": "execute_result"
    }
   ],
   "source": [
    "a = np.where((a > 3) & (a < 8), -a, a)\n",
    "# или можем использовать закоментированный код, указанный ниже\n",
    "# a[(a > 3) & (a < 8)] *= -1\n",
    "a"
   ]
  },
  {
   "cell_type": "markdown",
   "id": "5fa4abda",
   "metadata": {},
   "source": [
    "**2.** Заменить максимальный элемент случайного массива на 0"
   ]
  },
  {
   "cell_type": "code",
   "execution_count": 4,
   "id": "f2788a6e",
   "metadata": {},
   "outputs": [
    {
     "data": {
      "text/plain": [
       "array([[ 8, 30,  8, 22,  2],\n",
       "       [ 1, 18, 39,  1, 23],\n",
       "       [28, -6,  0, 19,  9],\n",
       "       [36, 11, 19,  9,  8]])"
      ]
     },
     "execution_count": 4,
     "metadata": {},
     "output_type": "execute_result"
    }
   ],
   "source": [
    "a[a == np.max(a)] = 0\n",
    "# или можем использовать закоментированный код, указанный ниже\n",
    "# a = np.where(a == np.max(a), 0, a)\n",
    "a"
   ]
  },
  {
   "cell_type": "markdown",
   "id": "3cac656b",
   "metadata": {},
   "source": [
    "**3.** Построить прямое произведение массивов (все комбинации с каждым элементом). На вход подается двумерный массив"
   ]
  },
  {
   "cell_type": "code",
   "execution_count": 5,
   "id": "3396b764",
   "metadata": {},
   "outputs": [
    {
     "name": "stdout",
     "output_type": "stream",
     "text": [
      "Исходный массив A:\n",
      "[[4 2]\n",
      " [2 2]]\n",
      "Исходный массив B:\n",
      "[[2 3]\n",
      " [1 3]]\n",
      "Gрямое произведение массивов\n"
     ]
    },
    {
     "data": {
      "text/plain": [
       "[(4, 2),\n",
       " (4, 3),\n",
       " (4, 1),\n",
       " (4, 3),\n",
       " (2, 2),\n",
       " (2, 3),\n",
       " (2, 1),\n",
       " (2, 3),\n",
       " (2, 2),\n",
       " (2, 3),\n",
       " (2, 1),\n",
       " (2, 3),\n",
       " (2, 2),\n",
       " (2, 3),\n",
       " (2, 1),\n",
       " (2, 3)]"
      ]
     },
     "execution_count": 5,
     "metadata": {},
     "output_type": "execute_result"
    }
   ],
   "source": [
    "from itertools import product\n",
    "\n",
    "# создаем исходные случайные массивы необходимых размернойстей \n",
    "A = np.random.randint(0, 5, size=(2, 2))\n",
    "B = np.random.randint(0, 5, size=(2, 2))\n",
    "print(\"Исходный массив A:\")\n",
    "print(A)\n",
    "print(\"Исходный массив B:\")\n",
    "print(B)\n",
    "\n",
    "# Строим прямое произведение массивов \n",
    "cartesian_product = list(product(np.reshape(A, A.size), np.reshape(B, B.size)))\n",
    "print(\"Gрямое произведение массивов\")\n",
    "cartesian_product"
   ]
  },
  {
   "cell_type": "markdown",
   "id": "674c9354",
   "metadata": {},
   "source": [
    "**4.** Даны 2 массива A (8x3) и B (2x2). Найти строки в A, которые содержат элементы из каждой строки в B, независимо от порядка элементов в B"
   ]
  },
  {
   "cell_type": "code",
   "execution_count": 6,
   "id": "cb664782",
   "metadata": {},
   "outputs": [
    {
     "name": "stdout",
     "output_type": "stream",
     "text": [
      "Исходный массив A:\n",
      "[[4 1 3]\n",
      " [3 4 1]\n",
      " [0 1 2]\n",
      " [2 0 4]\n",
      " [0 4 0]\n",
      " [3 2 3]\n",
      " [4 4 0]\n",
      " [0 0 3]]\n",
      "Исходный массив B:\n",
      "[[0 2]\n",
      " [0 1]]\n",
      "Результат:\n",
      "[[0 1 2]\n",
      " [2 0 4]\n",
      " [0 4 0]\n",
      " [4 4 0]\n",
      " [0 0 3]]\n"
     ]
    }
   ],
   "source": [
    "# создаем исходные случайные массивы необходимых размернойстей 10x3 \n",
    "np.random.seed(7)\n",
    "A = np.random.randint(0, 5, size=(8, 3))\n",
    "B = np.random.randint(0, 5, size=(2, 2))\n",
    "print(\"Исходный массив A:\")\n",
    "print(A)\n",
    "print(\"Исходный массив B:\")\n",
    "print(B)\n",
    "\n",
    "# создаем матрицу \"compared\" истинности для сравнения каждого элемента из массива \"A\" c элементами массива \"B\" \n",
    "compared = (A[..., np.newaxis, np.newaxis] == B)\n",
    "# формируем массив \"result\" из строк массива \"A\", удовлетворяющих условию задачи\n",
    "result = A[np.all(np.any(compared, axis =(1, 3)), axis = 1)]\n",
    "print(\"Результат:\")\n",
    "print(result)"
   ]
  },
  {
   "cell_type": "markdown",
   "id": "fa46533b",
   "metadata": {},
   "source": [
    "**5.** Дана 10x3 матрица, найти строки из неравных значений (например строка [2,2,3] остается, строка [3,3,3] удаляется)"
   ]
  },
  {
   "cell_type": "code",
   "execution_count": 7,
   "id": "fa545b23",
   "metadata": {},
   "outputs": [
    {
     "name": "stdout",
     "output_type": "stream",
     "text": [
      "Исходная матрица:\n",
      "[[2 2 0]\n",
      " [2 1 0]\n",
      " [0 1 0]\n",
      " [0 2 1]\n",
      " [0 0 0]\n",
      " [2 1 0]\n",
      " [1 0 0]\n",
      " [1 0 1]\n",
      " [1 0 1]\n",
      " [2 1 1]]\n",
      "Результат:\n",
      "[[2 2 0]\n",
      " [2 1 0]\n",
      " [0 1 0]\n",
      " [0 2 1]\n",
      " [2 1 0]\n",
      " [1 0 0]\n",
      " [1 0 1]\n",
      " [1 0 1]\n",
      " [2 1 1]]\n"
     ]
    }
   ],
   "source": [
    "# создаем исходную случайную матрицу 10x3 \n",
    "a = np.random.randint(0,3, size=(10,3))\n",
    "print(\"Исходная матрица:\")\n",
    "print(a)\n",
    "print(\"Результат:\")\n",
    "print(a[~np.all(a == a[:,0,None], axis = 1)])"
   ]
  },
  {
   "cell_type": "markdown",
   "id": "28f0d116",
   "metadata": {},
   "source": [
    "**6.** Дан двумерный массив. Удалить те строки, которые повторяются"
   ]
  },
  {
   "cell_type": "code",
   "execution_count": 8,
   "id": "83d2c0b7",
   "metadata": {},
   "outputs": [
    {
     "name": "stdout",
     "output_type": "stream",
     "text": [
      "Исходный массив\n",
      "[[1 1 1]\n",
      " [2 2 2]\n",
      " [1 2 0]\n",
      " [0 1 1]\n",
      " [1 0 2]]\n",
      "Массив после полного удаления повторяющихся строк:\n",
      "[[0 1 1]\n",
      " [1 0 2]\n",
      " [1 1 1]\n",
      " [1 2 0]\n",
      " [2 2 2]]\n",
      "Массив без дубликатов:\n",
      "[[0 1 1]\n",
      " [1 0 2]\n",
      " [1 1 1]\n",
      " [1 2 0]\n",
      " [2 2 2]]\n"
     ]
    }
   ],
   "source": [
    "# если нужно удалить все повторяющиеся строки\n",
    "# например, дана следующий \"a1\" массив \n",
    "# создаем исходную случайную матрицу 5x3 \n",
    "print(\"Исходный массив\")\n",
    "a = np.random.randint(0,3, size=(5,3))\n",
    "print(a)\n",
    "\n",
    "a1, count = np.unique(a, axis = 0, return_counts = True)\n",
    "print(\"Массив после полного удаления повторяющихся строк:\")\n",
    "print(a1[count == 1])\n",
    "\n",
    "# вывести уникальные строки (без их дубликатов)\n",
    "a2 = np.unique(a, axis = 0)\n",
    "print(\"Массив без дубликатов:\")\n",
    "print(a2)"
   ]
  },
  {
   "cell_type": "markdown",
   "id": "6daa9e37",
   "metadata": {},
   "source": [
    "______\n",
    "______"
   ]
  },
  {
   "cell_type": "markdown",
   "id": "cfbfcaff",
   "metadata": {},
   "source": [
    "Для каждой из следующих задач (1-5) нужно привести 2 реализации – одна без использования numpy (cчитайте, что там, где на входе или выходе должны быть numpy array, будут просто списки), а вторая полностью векторизованная с использованием numpy (без использования питоновских циклов/map/list comprehension).\n",
    "\n",
    "\n",
    "__Замечание 1.__ Можно считать, что все указанные объекты непустые (к примеру, в __задаче 1__ на диагонали матрицы есть ненулевые элементы).\n",
    "\n",
    "__Замечание 2.__ Для большинства задач решение занимает не больше 1-2 строк."
   ]
  },
  {
   "cell_type": "markdown",
   "id": "673cac7f",
   "metadata": {},
   "source": [
    "___"
   ]
  },
  {
   "cell_type": "markdown",
   "id": "ca6f585e",
   "metadata": {},
   "source": [
    "* __Задача 1__: Подсчитать произведение ненулевых элементов на диагонали прямоугольной матрицы.  \n",
    " Например, для X = np.array([[1, 0, 1], [2, 0, 2], [3, 0, 3], [4, 4, 4]]) ответ 3."
   ]
  },
  {
   "cell_type": "code",
   "execution_count": 9,
   "id": "065862fc",
   "metadata": {},
   "outputs": [
    {
     "name": "stdout",
     "output_type": "stream",
     "text": [
      "Исходная матрица:\n",
      "[[2 0 0]\n",
      " [1 0 0]\n",
      " [0 0 2]\n",
      " [2 2 1]]\n",
      "Результат, полученный без помощи NumPy: 4\n",
      "Результат, полученный с помощью NumPy: 4\n"
     ]
    }
   ],
   "source": [
    "import math\n",
    "\n",
    "# создаем исходную случайную матрицу размером, например, 4x3 \n",
    "a = np.random.randint(0, 3, size=(4, 3))\n",
    "# преобразуем исходную матрицу в список\n",
    "list_a = a.tolist()\n",
    "print(\"Исходная матрица:\")\n",
    "print(a)\n",
    "\n",
    "# реализация без использования NumPy\n",
    "res1 = math.prod([list_a[i][i] for i in range(min(len(list_a), len(list_a[0]))) if list_a[i][i]!=0])\n",
    "# или можем использовать закоментированный код, указанный ниже\n",
    "#from functools import reduce\n",
    "#res = reduce((lambda x, y: x * y), [list_a[i][i] for i in range(min(len(list_a), len(list_a[0]))) if list_a[i][i]!=0]) \n",
    "print(\"Результат, полученный без помощи NumPy:\", res1)\n",
    "\n",
    "# реализация с помощью NumPy\n",
    "res2 = np.prod(np.diag(a)[np.diag(a)!=0])\n",
    "# или можем использовать закоментированный код, указанный ниже\n",
    "#np.prod(np.diag(a)[np.nonzero(np.diag(a))])\n",
    "print(\"Результат, полученный с помощью NumPy:\", res2)"
   ]
  },
  {
   "cell_type": "markdown",
   "id": "9fc51d41",
   "metadata": {},
   "source": [
    "* __Задача 2__: Даны два вектора x и y. Проверить, задают ли они одно и то же мультимножество.  \n",
    "  Например, для x = np.array([1, 2, 2, 4]), y = np.array([4, 2, 1, 2]) ответ True."
   ]
  },
  {
   "cell_type": "code",
   "execution_count": 10,
   "id": "a809e02f",
   "metadata": {},
   "outputs": [
    {
     "name": "stdout",
     "output_type": "stream",
     "text": [
      "Вектор a: [0 1 1 1] Вектор b: [0 0 1 1]\n",
      "Результат, полученный без помощи NumPy: False\n",
      "Результат, полученный с помощью NumPy: False\n"
     ]
    }
   ],
   "source": [
    "# создаем исходные случайные векторы, состоящие из 4 эелементов \n",
    "a = np.random.randint(0, 2, size=(4))\n",
    "b = np.random.randint(0, 2, size=(4))\n",
    "# преобразуем исходные вектора в списки\n",
    "list_a = a.tolist()\n",
    "list_b = b.tolist()\n",
    "print(\"Вектор a:\", a, \"Вектор b:\", b)\n",
    "\n",
    "# реализация без использования NumPy\n",
    "res1 = (sorted(a) == sorted(b))\n",
    "# или можем использовать закоментированный код, указанный ниже\n",
    "#from collections import Counter\n",
    "#res1 = (Counter(list_a)==Counter(list_b))\n",
    "print(\"Результат, полученный без помощи NumPy:\", res1)\n",
    "\n",
    "# реализация с помощью NumPy\n",
    "res2 = np.all((np.sort(a)==np.sort(b)))\n",
    "print(\"Результат, полученный с помощью NumPy:\", res2)"
   ]
  },
  {
   "cell_type": "markdown",
   "id": "b9c185c7",
   "metadata": {},
   "source": [
    " * __Задача 3__: Найти максимальный элемент в векторе x среди элементов, перед которыми стоит ноль. \n",
    " Например, для x = np.array([6, 2, 0, 3, 0, 0, 5, 7, 0]) ответ 5."
   ]
  },
  {
   "cell_type": "code",
   "execution_count": 11,
   "id": "b57df008",
   "metadata": {},
   "outputs": [
    {
     "name": "stdout",
     "output_type": "stream",
     "text": [
      "Исходный вектор a: [6 9 0 3 0 0 5 7 0]\n",
      "Результат, полученный без помощи NumPy: 5\n",
      "Результат, полученный с помощью NumPy: 5\n"
     ]
    }
   ],
   "source": [
    "# исходный вектор \n",
    "a = np.array([6, 9, 0, 3, 0, 0, 5, 7, 0])\n",
    "# преобразуем исходный вектор в списки\n",
    "list_a = a.tolist()\n",
    "print(\"Исходный вектор a:\", a)\n",
    "\n",
    "# реализация без использования NumPy\n",
    "res1 = max([list_a[i+1] for i in range(len(list_a)-1) if list_a[i]==0])\n",
    "print(\"Результат, полученный без помощи NumPy:\", res1)\n",
    "\n",
    "# реализация с помощью NumPy\n",
    "res2 = np.max(a[1:][(a==0)[:-1]])\n",
    "print(\"Результат, полученный с помощью NumPy:\", res2)"
   ]
  },
  {
   "cell_type": "markdown",
   "id": "480be4ce",
   "metadata": {},
   "source": [
    "* __Задача 4__: Реализовать кодирование длин серий (Run-length encoding). Для некоторого вектора x необходимо вернуть кортеж из двух векторов одинаковой длины. Первый содержит числа, а второй - сколько раз их нужно повторить.  \n",
    " Например, для x = np.array([2, 2, 2, 3, 3, 3, 5]) ответ (np.array([2, 3, 5]), np.array([3, 3, 1]))."
   ]
  },
  {
   "cell_type": "code",
   "execution_count": 12,
   "id": "3c592124",
   "metadata": {},
   "outputs": [
    {
     "name": "stdout",
     "output_type": "stream",
     "text": [
      "Исходный вектор a: [2 2 2 3 3 3 5]\n",
      "Результат, полученный без помощи NumPy #1: ([2, 3, 5], [3, 3, 1])\n",
      "Результат, полученный без помощи NumPy #1: ([2, 3, 5], [3, 3, 1])\n",
      "Результат, полученный с помощью NumPy: (array([2, 3, 5]), array([3, 3, 1], dtype=int64))\n"
     ]
    }
   ],
   "source": [
    "from itertools import groupby\n",
    "\n",
    "# исходный вектор \n",
    "a = np.array([2, 2, 2, 3, 3, 3, 5])\n",
    "# преобразуем исходный вектор в списки\n",
    "list_a = a.tolist()\n",
    "print(\"Исходный вектор a:\", a)\n",
    "\n",
    "# реализация без использования NumPy. Вариант с циклом\n",
    "def rle_func(vector):\n",
    "    elements = []\n",
    "    num_elem =[] \n",
    "    counter = 1\n",
    "    elem = vector[0]\n",
    "    for i in range(1, len(vector)):\n",
    "        if vector[i] == elem:\n",
    "            counter += 1\n",
    "        else :\n",
    "            elements.append(elem)\n",
    "            num_elem.append(counter)\n",
    "            elem = vector[i]\n",
    "            counter = 1\n",
    "    elements.append(elem)\n",
    "    num_elem.append(counter)\n",
    "    return (elements, num_elem)\n",
    "res1=rle_func(list_a) \n",
    "print(\"Результат, полученный без помощи NumPy #1:\", res1) \n",
    "\n",
    "#реализация без использования NumPy. Вариант с groupby\n",
    "res2=([k for k, g in groupby(list_a)], [len(list(g)) for k, g in groupby(list_a)])\n",
    "print(\"Результат, полученный без помощи NumPy #1:\", res2) \n",
    "\n",
    "# реализация с помощью NumPy\n",
    "ind_of_elem = np.append(np.where(a[1:] != a[:-1]), len(a) - 1)\n",
    "num_of_elem = np.diff(np.append(-1, ind_of_elem))\n",
    "res3 = (a[ind_of_elem], num_of_elem)\n",
    "print(\"Результат, полученный с помощью NumPy:\", res3)"
   ]
  },
  {
   "cell_type": "markdown",
   "id": "077532ec",
   "metadata": {},
   "source": [
    "* __Задача 5__: Даны две выборки объектов - X и Y. Вычислить матрицу евклидовых расстояний между объектами. Сравните с функцией scipy.spatial.distance.cdist по скорости работы."
   ]
  },
  {
   "cell_type": "code",
   "execution_count": 13,
   "id": "1e807797",
   "metadata": {},
   "outputs": [
    {
     "name": "stdout",
     "output_type": "stream",
     "text": [
      "Исходная выборка X: [0 6 6]\n",
      "Исходная выборка Y: [5 6 5]\n",
      "Результат, полученный без помощи NumPy за время:  --- 0.0 секунд ---\n",
      "[[0.0, 6.08276253, 6.0], [6.08276253, 0.0, 1.0], [6.0, 1.0, 0.0]]\n",
      "Результат, полученный с помощью NumPy за время:  --- 0.0 секунд ---\n",
      "[[0.         6.08276253 6.        ]\n",
      " [6.08276253 0.         1.        ]\n",
      " [6.         1.         0.        ]]\n",
      "Результат, полученный с помощью SciPy за время:  --- 0.0009889602661132812 секунд ---\n",
      "[[0.         6.08276253 6.        ]\n",
      " [6.08276253 0.         1.        ]\n",
      " [6.         1.         0.        ]]\n"
     ]
    }
   ],
   "source": [
    "from scipy.spatial.distance import cdist\n",
    "import time\n",
    "\n",
    "# создаем исходные случайные векторы\n",
    "X = np.random.randint(0, 8, size=(3))\n",
    "Y = np.random.randint(0, 8, size=(3))\n",
    "# преобразуем исходные векторы в списки\n",
    "list_X = X.tolist()\n",
    "list_Y = Y.tolist()\n",
    "print(\"Исходная выборка X:\", X)\n",
    "print(\"Исходная выборка Y:\", Y)\n",
    "\n",
    "#реализация без использования NumPy\n",
    "start_time_1 = time.time()\n",
    "res1 =[list(map(lambda a, b: round(((a-list_X[i])**2+(b-list_Y[i])**2)**0.5, 8), list_X, list_Y)) for i in range(len(list_X))]\n",
    "print(\"Результат, полученный без помощи NumPy за время:  --- %s секунд ---\" % (time.time() - start_time_1))\n",
    "print(res1)\n",
    "\n",
    "#реализация с использованием NumPy\n",
    "start_time_2 = time.time()\n",
    "dX = X[..., np.newaxis] - X[np.newaxis, ...]\n",
    "dY = Y[..., np.newaxis] - Y[np.newaxis, ...]\n",
    "res2 = (np.array([dX, dY])**2).sum(axis=0)**0.5\n",
    "print(\"Результат, полученный с помощью NumPy за время:  --- %s секунд ---\" % (time.time() - start_time_2))\n",
    "print(res2)\n",
    "\n",
    "#реализация с использованием SciPy\n",
    "XY = np.stack((X, Y), axis=1)\n",
    "start_time_3 = time.time()\n",
    "res3 =cdist(XY, XY)\n",
    "print(\"Результат, полученный с помощью SciPy за время:  --- %s секунд ---\" % (time.time() - start_time_3))\n",
    "print(res3)"
   ]
  },
  {
   "cell_type": "markdown",
   "id": "1893f4aa",
   "metadata": {},
   "source": [
    "В целях более наглядного сравнения быстродействия работы применненных методов по построению матрицы евклидовых расстояний при создании случайных выборок X и Y необходимо увеличить количество элементов в них.\n",
    "При формировании матриц евклидовых расстояний наилучший результат по скорости работы показывает пакет SciPy, второе место по данному параметру занимает NumPy. На третьем же месте расположено выполение задачи с помощью базовых функций Python.\n",
    "   \n",
    "Резюмируем:\n",
    "1) SciPy,\n",
    "2) NumPy,\n",
    "3) Python."
   ]
  },
  {
   "cell_type": "markdown",
   "id": "973e8064",
   "metadata": {},
   "source": [
    "_______\n",
    "________"
   ]
  },
  {
   "cell_type": "markdown",
   "id": "1104acb7",
   "metadata": {},
   "source": [
    "* #### __Задача 6__: CrunchieMunchies __*__\n",
    "\n",
    "Вы работаете в отделе маркетинга пищевой компании MyCrunch, которая разрабатывает новый вид вкусных, полезных злаков под названием **CrunchieMunchies**.\n",
    "\n",
    "Вы хотите продемонстрировать потребителям, насколько полезны ваши хлопья по сравнению с другими ведущими брендами, поэтому вы собрали данные о питании нескольких разных конкурентов.\n",
    "\n",
    "Ваша задача - использовать вычисления Numpy для анализа этих данных и доказать, что ваши **СrunchieMunchies** - самый здоровый выбор для потребителей.\n"
   ]
  },
  {
   "cell_type": "code",
   "execution_count": 14,
   "id": "10a77f8d",
   "metadata": {},
   "outputs": [],
   "source": [
    "import numpy as np"
   ]
  },
  {
   "cell_type": "markdown",
   "id": "ab87cb03",
   "metadata": {},
   "source": [
    "1. Просмотрите файл cereal.csv. Этот файл содержит количества калорий для различных марок хлопьев. Загрузите данные из файла и сохраните их как calorie_stats."
   ]
  },
  {
   "cell_type": "code",
   "execution_count": 15,
   "id": "9681ebf2",
   "metadata": {},
   "outputs": [
    {
     "data": {
      "text/plain": [
       "array([ 70., 120.,  70.,  50., 110., 110., 110., 130.,  90.,  90., 120.,\n",
       "       110., 120., 110., 110., 110., 100., 110., 110., 110., 100., 110.,\n",
       "       100., 100., 110., 110., 100., 120., 120., 110., 100., 110., 100.,\n",
       "       110., 120., 120., 110., 110., 110., 140., 110., 100., 110., 100.,\n",
       "       150., 150., 160., 100., 120., 140.,  90., 130., 120., 100.,  50.,\n",
       "        50., 100., 100., 120., 100.,  90., 110., 110.,  80.,  90.,  90.,\n",
       "       110., 110.,  90., 110., 140., 100., 110., 110., 100., 100., 110.])"
      ]
     },
     "execution_count": 15,
     "metadata": {},
     "output_type": "execute_result"
    }
   ],
   "source": [
    "calorie_stats = np.loadtxt(\"./data/cereal.csv\", delimiter=\",\")\n",
    "calorie_stats"
   ]
  },
  {
   "cell_type": "markdown",
   "id": "139cfbd8",
   "metadata": {},
   "source": [
    "2. В одной порции CrunchieMunchies содержится 60 калорий. Насколько выше среднее количество калорий у ваших конкурентов?\n",
    "\n",
    "Сохраните ответ в переменной average_calories и распечатайте переменную в терминале"
   ]
  },
  {
   "cell_type": "code",
   "execution_count": 16,
   "id": "7036d240",
   "metadata": {},
   "outputs": [
    {
     "name": "stdout",
     "output_type": "stream",
     "text": [
      "Средний калораж: 106.88. Разница между средним калоражем и CrunchiesMunchies: 46.88\n"
     ]
    }
   ],
   "source": [
    "average_calories = calorie_stats.mean().round(2) # среднее количество калорий у конкурентов\n",
    "average_calories_diff = (average_calories - 60).round(2) # разница между средним количеством калорий у конкурентов и количеством калорий в порции CrunchieMunchies\n",
    "print(f\"Средний калораж: {average_calories}. Разница между средним калоражем и CrunchiesMunchies: {average_calories_diff}\")"
   ]
  },
  {
   "cell_type": "markdown",
   "id": "b2ddb4cd",
   "metadata": {},
   "source": [
    "3. Корректно ли среднее количество калорий отражает распределение набора данных? Давайте отсортируем данные и посмотрим.\n",
    "\n",
    "Отсортируйте данные и сохраните результат в переменной calorie_stats_sorted. Распечатайте отсортированную информацию"
   ]
  },
  {
   "cell_type": "code",
   "execution_count": 17,
   "id": "46eeb4ed",
   "metadata": {},
   "outputs": [
    {
     "data": {
      "text/plain": [
       "array([ 50.,  50.,  50.,  70.,  70.,  80.,  90.,  90.,  90.,  90.,  90.,\n",
       "        90.,  90., 100., 100., 100., 100., 100., 100., 100., 100., 100.,\n",
       "       100., 100., 100., 100., 100., 100., 100., 100., 110., 110., 110.,\n",
       "       110., 110., 110., 110., 110., 110., 110., 110., 110., 110., 110.,\n",
       "       110., 110., 110., 110., 110., 110., 110., 110., 110., 110., 110.,\n",
       "       110., 110., 110., 110., 120., 120., 120., 120., 120., 120., 120.,\n",
       "       120., 120., 120., 130., 130., 140., 140., 140., 150., 150., 160.])"
      ]
     },
     "execution_count": 17,
     "metadata": {},
     "output_type": "execute_result"
    }
   ],
   "source": [
    "calorie_stats_sorted = np.sort(calorie_stats)\n",
    "calorie_stats_sorted"
   ]
  },
  {
   "cell_type": "markdown",
   "id": "4dc74116",
   "metadata": {},
   "source": [
    "4. Похоже, что большинство значений выше среднего. Давайте посмотрим, является ли медиана наиболее корректным показателем набора данных.\n",
    "\n",
    "Вычислите медиану набора данных и сохраните свой ответ в median_calories. Выведите медиану, чтобы вы могли видеть, как она сравнивается со средним значением."
   ]
  },
  {
   "cell_type": "code",
   "execution_count": 18,
   "id": "b56627c3",
   "metadata": {},
   "outputs": [
    {
     "data": {
      "text/plain": [
       "110.0"
      ]
     },
     "execution_count": 18,
     "metadata": {},
     "output_type": "execute_result"
    }
   ],
   "source": [
    "median_calories = np.median(calorie_stats_sorted)\n",
    "median_calories"
   ]
  },
  {
   "cell_type": "markdown",
   "id": "a63ab72f",
   "metadata": {},
   "source": [
    "5. В то время как медиана показывает, что по крайней мере половина наших значений составляет более 100 калорий, было бы более впечатляюще показать, что значительная часть конкурентов имеет более высокое количество калорий, чем CrunchieMunchies.\n",
    "\n",
    "Рассчитайте различные процентили и распечатайте их, пока не найдете наименьший процентиль, превышающий 60 калорий. Сохраните это значение в переменной nth_percentile."
   ]
  },
  {
   "cell_type": "code",
   "execution_count": 19,
   "id": "fe80ce03",
   "metadata": {},
   "outputs": [
    {
     "data": {
      "text/plain": [
       "array([ 70. ,  70. ,  75.6,  83.2,  90. ,  90. ,  90. ,  90. ,  90. ,\n",
       "        90. ,  90. ,  90. ,  91.6,  99.2, 100. , 100. , 100. , 100. ,\n",
       "       100. , 100. , 100. , 100. , 100. , 100. , 100. , 100. , 100. ,\n",
       "       100. , 100. , 100. , 100. , 100. , 100. , 100. , 100. , 106.4,\n",
       "       110. , 110. , 110. , 110. , 110. , 110. , 110. , 110. , 110. ,\n",
       "       110. , 110. , 110. , 110. , 110. , 110. , 110. , 110. , 110. ,\n",
       "       110. , 110. , 110. , 110. , 110. , 110. , 110. , 110. , 110. ,\n",
       "       110. , 110. , 110. , 110. , 110. , 110. , 110. , 110. , 110. ,\n",
       "       110. , 115.2, 120. , 120. , 120. , 120. , 120. , 120. , 120. ,\n",
       "       120. , 120. , 120. , 120. , 120. , 124. , 130. , 130. , 136.8,\n",
       "       140. , 140. , 140. , 147.2, 150. , 152.4, 160. ])"
      ]
     },
     "execution_count": 19,
     "metadata": {},
     "output_type": "execute_result"
    }
   ],
   "source": [
    "all_percentiles = np.percentile(calorie_stats_sorted, [i for i in range(1, 101)])\n",
    "percentiles_greater_60 = all_percentiles[all_percentiles > 60]\n",
    "percentiles_greater_60"
   ]
  },
  {
   "cell_type": "code",
   "execution_count": 20,
   "id": "ff438d5a",
   "metadata": {},
   "outputs": [
    {
     "data": {
      "text/plain": [
       "4"
      ]
     },
     "execution_count": 20,
     "metadata": {},
     "output_type": "execute_result"
    }
   ],
   "source": [
    "# значение 70 присутствует в изначальной выборке\n",
    "percentile_rank = 101 - percentiles_greater_60.size\n",
    "percentile_rank"
   ]
  },
  {
   "cell_type": "code",
   "execution_count": 21,
   "id": "f4e5c919",
   "metadata": {},
   "outputs": [
    {
     "data": {
      "text/plain": [
       "70.0"
      ]
     },
     "execution_count": 21,
     "metadata": {},
     "output_type": "execute_result"
    }
   ],
   "source": [
    "# искомый процентиль\n",
    "fourth_percentile = percentiles_greater_60[0]\n",
    "fourth_percentile"
   ]
  },
  {
   "cell_type": "markdown",
   "id": "a2a3c5aa",
   "metadata": {},
   "source": [
    "6. Хотя процентиль показывает нам, что у большинства конкурентов количество калорий намного выше, это неудобная концепция для использования в маркетинговых материалах.\n",
    "\n",
    "Вместо этого давайте подсчитаем процент хлопьев, в которых содержится более 60 калорий на порцию. Сохраните свой ответ в переменной more_calories и распечатайте его"
   ]
  },
  {
   "cell_type": "code",
   "execution_count": 22,
   "id": "ade0f6ea",
   "metadata": {},
   "outputs": [
    {
     "data": {
      "text/plain": [
       "96.1"
      ]
     },
     "execution_count": 22,
     "metadata": {},
     "output_type": "execute_result"
    }
   ],
   "source": [
    "percentage_greater_60 = (np.mean(calorie_stats_sorted > 60) * 100).round(2)\n",
    "percentage_greater_60"
   ]
  },
  {
   "cell_type": "code",
   "execution_count": 23,
   "id": "5d4325e9",
   "metadata": {},
   "outputs": [
    {
     "data": {
      "text/plain": [
       "0.7"
      ]
     },
     "execution_count": 23,
     "metadata": {},
     "output_type": "execute_result"
    }
   ],
   "source": [
    "a = np.array([1,0,1,1,1,0,1,1,0,1])\n",
    "a.mean()"
   ]
  },
  {
   "cell_type": "markdown",
   "id": "1735d65b",
   "metadata": {},
   "source": [
    "7. Это действительно высокий процент. Это будет очень полезно, когда мы будем продвигать CrunchieMunchies. Но один вопрос заключается в том, насколько велики различия в наборе данных? Можем ли мы сделать обобщение, что в большинстве злаков содержится около 100 калорий или разброс еще больше?\n",
    "\n",
    "Рассчитайте величину отклонения, найдя стандартное отклонение, Сохраните свой ответ в calorie_std и распечатайте на терминале. Как мы можем включить эту ценность в наш анализ?"
   ]
  },
  {
   "cell_type": "code",
   "execution_count": 24,
   "id": "85c8df1f",
   "metadata": {},
   "outputs": [
    {
     "data": {
      "text/plain": [
       "19.36"
      ]
     },
     "execution_count": 24,
     "metadata": {},
     "output_type": "execute_result"
    }
   ],
   "source": [
    "calorie_std = calorie_stats_sorted.std().round(2)\n",
    "calorie_std"
   ]
  },
  {
   "cell_type": "markdown",
   "id": "037455c5",
   "metadata": {},
   "source": [
    "8. Напишите короткий абзац, в котором кратко изложите свои выводы и то, как, по вашему мнению, эти данные могут быть использованы в интересах Mycrunch при маркетинге CrunchieMunchies."
   ]
  },
  {
   "cell_type": "markdown",
   "id": "035bf469",
   "metadata": {},
   "source": [
    "Полученные данные в целом дают представление о разбросе калоража у злаков конкурентов CrunchieMunchies и то, как в эту выборку вписывается калорийность самих CrunchieMunchies.\n",
    "Однако часть полученных метрик, таких как медианное значение 110 калорий (которое показывает, что половина участвующих в анализе злаков имеет калорийность более 110), значение 4-го процентиля (которое отражает, что калораж CrunchieMunchies попадает в 4-х процентную выборку наименьших по значению калорийности злаков), а также стандартное отклонение 19,36 кал. (как мера рассеивания случайной величины относительно среднего значения) - не будут понятны большинству покупателей злаков, поэтому их довольно сложно использовать для маркетинговых целей. Однако эти данные хорошо иллюстрируют исследователю, то преимущество по количеству калорий, которое имеют CrunchieMunchies по сравнению с конкурентами.\n",
    "Для маркетинговых целей удобнее всего будет использовать процент хлопьев, в которых содержится более 60 калорий на порцию, который составляет 96,1% (хотя значение 4-го процентиля также помогает понять схожую информацию). Вдобавок, можно будет использовать разницу в 46,88 калорий между средним количеством калорий у конкурентов  и калоражем злаков CrunchieMunchies. Показатель не отражает реальную картину разброса данных, однако на покупателя может возыметь должный эффект. В ходе маркетинговой компании упоминание данных величин, например в любой рекламе, быстрее всего бросится покупателю на глаза, а их высокое значение может помочь в привлечении необходимой клиентуры.\n",
    "В дополнение нужно отметить, что для маркетинга следует подумать и о других преимуществах продукта, о том, что выгодно отличает его от конкурентов, ведь остальные, приблизительно 4%, конкуренты не уступают CrunchieMunchies по исследованному показателю. Калорийность продукта части их них даже меньше, чем у CrunchieMunchies."
   ]
  }
 ],
 "metadata": {
  "kernelspec": {
   "display_name": "Python 3",
   "language": "python",
   "name": "python3"
  },
  "language_info": {
   "codemirror_mode": {
    "name": "ipython",
    "version": 3
   },
   "file_extension": ".py",
   "mimetype": "text/x-python",
   "name": "python",
   "nbconvert_exporter": "python",
   "pygments_lexer": "ipython3",
   "version": "3.9.5"
  }
 },
 "nbformat": 4,
 "nbformat_minor": 5
}
